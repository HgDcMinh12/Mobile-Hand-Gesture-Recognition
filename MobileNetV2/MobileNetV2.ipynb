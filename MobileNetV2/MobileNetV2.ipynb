{
  "nbformat": 4,
  "nbformat_minor": 0,
  "metadata": {
    "accelerator": "GPU",
    "colab": {
      "name": "MobileNetV2.ipynb",
      "provenance": [],
      "collapsed_sections": [
        "dylcoQDCjKU5"
      ]
    },
    "kernelspec": {
      "display_name": "Python 3",
      "name": "python3"
    },
    "language_info": {
      "name": "python"
    }
  },
  "cells": [
    {
      "cell_type": "code",
      "metadata": {
        "id": "kYr1_opjsWbq"
      },
      "source": [
        "import glob2\n",
        "import os\n",
        "import cv2\n",
        "import keras\n",
        "import numpy as np\n",
        "import pandas as pd\n",
        "import matplotlib.pyplot as plt\n",
        "import tensorflow as tf\n",
        "from sklearn.utils import shuffle\n",
        "from tensorflow.keras.models import load_model, Sequential\n",
        "from tensorflow.keras.layers import Dense, Flatten\n",
        "from tensorflow.keras.applications import MobileNetV2\n",
        "from tensorflow.keras.optimizers import Adam"
      ],
      "execution_count": null,
      "outputs": []
    },
    {
      "cell_type": "code",
      "metadata": {
        "colab": {
          "base_uri": "https://localhost:8080/"
        },
        "id": "83Nu31O4sRBz",
        "outputId": "e5a8c883-679d-43e6-ca3f-9b1f2b3f6718"
      },
      "source": [
        "from google.colab import drive\n",
        "drive.mount('/content/drive')"
      ],
      "execution_count": null,
      "outputs": [
        {
          "output_type": "stream",
          "text": [
            "Mounted at /content/drive\n"
          ],
          "name": "stdout"
        }
      ]
    },
    {
      "cell_type": "code",
      "metadata": {
        "colab": {
          "base_uri": "https://localhost:8080/"
        },
        "id": "wyL8xHZWqZ6Z",
        "outputId": "70c0afcb-b8b4-469c-9726-878af363de5b"
      },
      "source": [
        "%cd '/content/drive/MyDrive/Colab Notebooks/Nhận dạng/Mobile Hand Gesture Recognition/'"
      ],
      "execution_count": null,
      "outputs": [
        {
          "output_type": "stream",
          "text": [
            "/content/drive/MyDrive/Colab Notebooks/Nhận dạng/Mobile Hand Gesture Recognition\n"
          ],
          "name": "stdout"
        }
      ]
    },
    {
      "cell_type": "code",
      "metadata": {
        "colab": {
          "base_uri": "https://localhost:8080/"
        },
        "id": "Hry-mVCNpLFA",
        "outputId": "c0f72191-dcbd-42b1-e249-be16811432ce"
      },
      "source": [
        "%ls"
      ],
      "execution_count": null,
      "outputs": [
        {
          "output_type": "stream",
          "text": [
            "\u001b[0m\u001b[01;34mcheckpoint_Adam\u001b[0m/   \u001b[01;34mData\u001b[0m/     Data224.zip  Data.zip           \u001b[01;34mmodel\u001b[0m/\n",
            "\u001b[01;34mcheckpoint_NAdam\u001b[0m/  \u001b[01;34mData2\u001b[0m/    Data2.zip    hist.csv\n",
            "\u001b[01;34mcheckpoint_SGD\u001b[0m/    \u001b[01;34mData224\u001b[0m/  \u001b[01;34mDataTest\u001b[0m/    MobileNetV2.ipynb\n"
          ],
          "name": "stdout"
        }
      ]
    },
    {
      "cell_type": "code",
      "metadata": {
        "id": "eptvLh3-pNn5"
      },
      "source": [
        "!unzip '/content/drive/MyDrive/Colab Notebooks/Nhận dạng/Mobile Hand Gesture Recognition/Data224.zip' -d '/content/drive/MyDrive/Colab Notebooks/Nhận dạng/Mobile Hand Gesture Recognition'"
      ],
      "execution_count": null,
      "outputs": []
    },
    {
      "cell_type": "code",
      "metadata": {
        "id": "2GWw5t2DjSp_"
      },
      "source": [
        "folder300 = '/content/drive/MyDrive/Colab Notebooks/Nhận dạng/Mobile Hand Gesture Recognition/Data'"
      ],
      "execution_count": null,
      "outputs": []
    },
    {
      "cell_type": "code",
      "metadata": {
        "id": "78l0RMyjr-Ux"
      },
      "source": [
        "data_folder = '/content/drive/MyDrive/Colab Notebooks/Nhận dạng/Mobile Hand Gesture Recognition/Data224'"
      ],
      "execution_count": null,
      "outputs": []
    },
    {
      "cell_type": "code",
      "metadata": {
        "id": "qOM1fbrgsBdL"
      },
      "source": [
        "images_link = glob2.glob('/content/drive/MyDrive/Colab Notebooks/Nhận dạng/Mobile Hand Gesture Recognition/Data224/*/*.png')"
      ],
      "execution_count": null,
      "outputs": []
    },
    {
      "cell_type": "code",
      "metadata": {
        "id": "7FDkNJrnsj6g"
      },
      "source": [
        "count = 0\n",
        "for sub_folder in os.listdir(folder300):\n",
        "  for image_file_name in os.listdir(os.path.join(folder300, sub_folder)):\n",
        "    image = cv2.imread(os.path.join(folder300,sub_folder,image_file_name))\n",
        "    image = cv2.resize(image,(224,224))\n",
        "    cv2.imwrite(os.path.join(data_folder,sub_folder,image_file_name),image)\n",
        "    count += 1\n",
        "    print(count)"
      ],
      "execution_count": null,
      "outputs": []
    },
    {
      "cell_type": "code",
      "metadata": {
        "colab": {
          "base_uri": "https://localhost:8080/",
          "height": 281
        },
        "id": "LDm0BHwr7C65",
        "outputId": "8ee0c8f6-0371-43df-b17a-8b86dafe7fb2"
      },
      "source": [
        "data = pd.DataFrame({'labels': labels, 'image_links':images_link})\n",
        "data.groupby(labels).image_links.count().plot.bar()\n",
        "plt.title('Number of images in each class')\n",
        "plt.show()\n"
      ],
      "execution_count": null,
      "outputs": [
        {
          "output_type": "display_data",
          "data": {
            "image/png": "[encoded data removed]",
            "text/plain": [
              "<Figure size 432x288 with 1 Axes>"
            ]
          },
          "metadata": {
            "tags": []
          }
        }
      ]
    },
    {
      "cell_type": "code",
      "metadata": {
        "colab": {
          "base_uri": "https://localhost:8080/"
        },
        "id": "2NKm-nzJ7U-O",
        "outputId": "d93777ec-9f03-4385-f307-5d85cb29c4c6"
      },
      "source": [
        "from sklearn.model_selection import train_test_split\n",
        "\n",
        "images_train, images_val, y_label_train, y_label_val = train_test_split(images_link, labels, stratify = labels)\n",
        "\n",
        "print('images_train len: {}, image_test shape: {}'.format(len(images_train), len(images_val)))\n"
      ],
      "execution_count": null,
      "outputs": [
        {
          "output_type": "stream",
          "text": [
            "images_train len: 3600, image_test shape: 1200\n"
          ],
          "name": "stdout"
        }
      ]
    },
    {
      "cell_type": "code",
      "metadata": {
        "id": "4rJjoWNFxlnD"
      },
      "source": [
        "classNames = ['a', 'b', 'c', 'd', 'e', 'f', 'g', 'h', 'i', 'k', 'l', 'm', 'n', 'o', 'p', 'q', 'r', 's', 't', 'u', 'v', 'w', 'x', 'y']"
      ],
      "execution_count": null,
      "outputs": []
    },
    {
      "cell_type": "code",
      "metadata": {
        "colab": {
          "base_uri": "https://localhost:8080/"
        },
        "id": "3r2wTtTfyLFW",
        "outputId": "53752c23-e7e9-4ff6-ab72-747ef780728f"
      },
      "source": [
        "train_generator = tf.keras.preprocessing.image_dataset_from_directory(\n",
        "    '/content/drive/MyDrive/Colab Notebooks/Nhận dạng/Mobile Hand Gesture Recognition/Data224',\n",
        "    labels=\"inferred\",\n",
        "    label_mode=\"categorical\",\n",
        "    class_names=classNames,\n",
        "    color_mode=\"rgb\",\n",
        "    batch_size=32,\n",
        "    image_size=(224, 224),\n",
        "    shuffle=True,\n",
        "    seed=1337,\n",
        "    validation_split= 0.2,\n",
        "    subset='training',\n",
        "    interpolation=\"bilinear\",\n",
        "    follow_links=False,\n",
        "    smart_resize=False,\n",
        ")\n",
        "\n",
        "val_generator = tf.keras.preprocessing.image_dataset_from_directory(\n",
        "    '/content/drive/MyDrive/Colab Notebooks/Nhận dạng/Mobile Hand Gesture Recognition/Data224',\n",
        "    labels=\"inferred\",\n",
        "    label_mode=\"categorical\",\n",
        "    class_names=classNames,\n",
        "    color_mode=\"rgb\",\n",
        "    batch_size=32,\n",
        "    image_size=(224, 224),\n",
        "    shuffle=True,\n",
        "    seed=1337,\n",
        "    validation_split= 0.2,\n",
        "    subset='validation',\n",
        "    interpolation=\"bilinear\",\n",
        "    follow_links=False,\n",
        "    smart_resize=False,\n",
        ")"
      ],
      "execution_count": null,
      "outputs": [
        {
          "output_type": "stream",
          "text": [
            "Found 6000 files belonging to 24 classes.\n",
            "Using 4800 files for training.\n",
            "Found 6000 files belonging to 24 classes.\n",
            "Using 1200 files for validation.\n"
          ],
          "name": "stdout"
        }
      ]
    },
    {
      "cell_type": "code",
      "metadata": {
        "colab": {
          "base_uri": "https://localhost:8080/"
        },
        "id": "62sO7jRf8wgF",
        "outputId": "c07966a9-6421-45f8-d4a5-d7c7214acbbf"
      },
      "source": [
        "base_network = MobileNetV2(input_shape=(224, 224, 3), include_top = False, weights = 'imagenet')\n",
        "flat = Flatten()\n",
        "den = Dense(24, activation='softmax')\n",
        "\n",
        "model = Sequential([base_network, \n",
        "                    flat,\n",
        "                    den])\n",
        "opt = tf.keras.optimizers.SGD(learning_rate=0.0001)\n",
        "# opt = tf.keras.optimizers.Nadam(learning_rate=0.0001)\n",
        "# opt = tf.keras.optimizers.Adam(learning_rate=0.0001)\n",
        "\n",
        "model.compile(optimizer=opt, loss='categorical_crossentropy', metrics = ['accuracy'])\n",
        "model.summary()"
      ],
      "execution_count": null,
      "outputs": [
        {
          "output_type": "stream",
          "text": [
            "Downloading data from https://storage.googleapis.com/tensorflow/keras-applications/mobilenet_v2/mobilenet_v2_weights_tf_dim_ordering_tf_kernels_1.0_224_no_top.h5\n",
            "9412608/9406464 [==============================] - 0s 0us/step\n",
            "Model: \"sequential\"\n",
            "_________________________________________________________________\n",
            "Layer (type)                 Output Shape              Param #   \n",
            "=================================================================\n",
            "mobilenetv2_1.00_224 (Functi (None, 7, 7, 1280)        2257984   \n",
            "_________________________________________________________________\n",
            "flatten (Flatten)            (None, 62720)             0         \n",
            "_________________________________________________________________\n",
            "dense (Dense)                (None, 24)                1505304   \n",
            "=================================================================\n",
            "Total params: 3,763,288\n",
            "Trainable params: 3,729,176\n",
            "Non-trainable params: 34,112\n",
            "_________________________________________________________________\n"
          ],
          "name": "stdout"
        }
      ]
    },
    {
      "cell_type": "markdown",
      "metadata": {
        "id": "FxVZrX7zU5Cz"
      },
      "source": [
        "#Checkpoint"
      ]
    },
    {
      "cell_type": "code",
      "metadata": {
        "id": "d3rFkPSf9prc"
      },
      "source": [
        "checkpoint_path = \"/content/drive/MyDrive/Colab Notebooks/Nhận dạng/Mobile Hand Gesture Recognition/checkpoint_SGD/cp-{epoch:04d}.ckpt\"\n",
        "checkpoint_dir = os.path.dirname(checkpoint_path)\n",
        "model_checkpoint_callback = tf.keras.callbacks.ModelCheckpoint(\n",
        "    filepath=checkpoint_path,\n",
        "    save_weights_only=True,\n",
        "    monitor='val_accuracy',\n",
        "    mode='max',\n",
        "    save_best_only=True)"
      ],
      "execution_count": null,
      "outputs": []
    },
    {
      "cell_type": "code",
      "metadata": {
        "colab": {
          "base_uri": "https://localhost:8080/"
        },
        "id": "VuGkct1G9O-K",
        "outputId": "cd36643b-51ea-4b42-bbbc-dd554dcc1bd0"
      },
      "source": [
        "# Frozen base_network\n",
        "for layer in model.layers[:1]:\n",
        "  layer.trainable = False\n",
        "\n",
        "for layer in model.layers:\n",
        "  print('Layer: {} ; Trainable: {}'.format(layer, layer.trainable))\n"
      ],
      "execution_count": null,
      "outputs": [
        {
          "output_type": "stream",
          "text": [
            "Layer: <tensorflow.python.keras.engine.functional.Functional object at 0x7f16c00875d0> ; Trainable: False\n",
            "Layer: <tensorflow.python.keras.layers.core.Flatten object at 0x7f16c8200a90> ; Trainable: True\n",
            "Layer: <tensorflow.python.keras.layers.core.Dense object at 0x7f1680101810> ; Trainable: True\n"
          ],
          "name": "stdout"
        }
      ]
    },
    {
      "cell_type": "code",
      "metadata": {
        "colab": {
          "base_uri": "https://localhost:8080/"
        },
        "id": "vr3_3r3a9kEv",
        "outputId": "d124fdc2-522d-485d-8202-330384c25dba"
      },
      "source": [
        "model.fit(train_generator,\n",
        "          steps_per_epoch=len(train_generator),\n",
        "          validation_data=val_generator,\n",
        "          validation_steps=5,\n",
        "          epochs=1, \n",
        "          callbacks=[model_checkpoint_callback])"
      ],
      "execution_count": null,
      "outputs": [
        {
          "output_type": "stream",
          "text": [
            "150/150 [==============================] - 1291s 8s/step - loss: 2.5096 - accuracy: 0.3573 - val_loss: 3.3588 - val_accuracy: 0.1813\n"
          ],
          "name": "stdout"
        },
        {
          "output_type": "execute_result",
          "data": {
            "text/plain": [
              "<tensorflow.python.keras.callbacks.History at 0x7f167fb7e490>"
            ]
          },
          "metadata": {
            "tags": []
          },
          "execution_count": 10
        }
      ]
    },
    {
      "cell_type": "code",
      "metadata": {
        "colab": {
          "base_uri": "https://localhost:8080/"
        },
        "id": "1XpfaTndAnYA",
        "outputId": "48a384d6-036e-4b7d-fb08-625afbf9257f"
      },
      "source": [
        "# Frozen base_network\n",
        "for layer in model.layers[:1]:\n",
        "  layer.trainable = True\n",
        "\n",
        "for layer in model.layers:\n",
        "  print('Layer: {} ; Trainable: {}'.format(layer, layer.trainable))"
      ],
      "execution_count": null,
      "outputs": [
        {
          "output_type": "stream",
          "text": [
            "Layer: <tensorflow.python.keras.engine.functional.Functional object at 0x7f16c00875d0> ; Trainable: True\n",
            "Layer: <tensorflow.python.keras.layers.core.Flatten object at 0x7f16c8200a90> ; Trainable: True\n",
            "Layer: <tensorflow.python.keras.layers.core.Dense object at 0x7f1680101810> ; Trainable: True\n"
          ],
          "name": "stdout"
        }
      ]
    },
    {
      "cell_type": "code",
      "metadata": {
        "colab": {
          "base_uri": "https://localhost:8080/"
        },
        "id": "Es2L_YcBApN8",
        "outputId": "8afd98f9-cf58-4850-ecc1-220f02821c9f"
      },
      "source": [
        "history = model.fit(train_generator,\n",
        "          validation_data = val_generator,\n",
        "          batch_size = 64,\n",
        "          epochs = 100,\n",
        "          callbacks=[model_checkpoint_callback])"
      ],
      "execution_count": null,
      "outputs": [
        {
          "output_type": "stream",
          "text": [
            "Epoch 1/100\n",
            "150/150 [==============================] - 251s 2s/step - loss: 0.9236 - accuracy: 0.7756 - val_loss: 2.7834 - val_accuracy: 0.2425\n",
            "Epoch 2/100\n",
            "150/150 [==============================] - 72s 476ms/step - loss: 0.5675 - accuracy: 0.8621 - val_loss: 2.2414 - val_accuracy: 0.3625\n",
            "Epoch 3/100\n",
            "150/150 [==============================] - 72s 475ms/step - loss: 0.4181 - accuracy: 0.8990 - val_loss: 1.7863 - val_accuracy: 0.4717\n",
            "Epoch 4/100\n",
            "150/150 [==============================] - 72s 478ms/step - loss: 0.3270 - accuracy: 0.9212 - val_loss: 1.4088 - val_accuracy: 0.5658\n",
            "Epoch 5/100\n",
            "150/150 [==============================] - 72s 477ms/step - loss: 0.2688 - accuracy: 0.9394 - val_loss: 1.0655 - val_accuracy: 0.6717\n",
            "Epoch 6/100\n",
            "150/150 [==============================] - 72s 475ms/step - loss: 0.2187 - accuracy: 0.9498 - val_loss: 0.8223 - val_accuracy: 0.7625\n",
            "Epoch 7/100\n",
            "150/150 [==============================] - 72s 478ms/step - loss: 0.1885 - accuracy: 0.9573 - val_loss: 0.6577 - val_accuracy: 0.8192\n",
            "Epoch 8/100\n",
            "150/150 [==============================] - 72s 476ms/step - loss: 0.1574 - accuracy: 0.9669 - val_loss: 0.5383 - val_accuracy: 0.8492\n",
            "Epoch 9/100\n",
            "150/150 [==============================] - 72s 474ms/step - loss: 0.1366 - accuracy: 0.9740 - val_loss: 0.4462 - val_accuracy: 0.8783\n",
            "Epoch 10/100\n",
            "150/150 [==============================] - 72s 475ms/step - loss: 0.1166 - accuracy: 0.9796 - val_loss: 0.3818 - val_accuracy: 0.8958\n",
            "Epoch 11/100\n",
            "150/150 [==============================] - 72s 475ms/step - loss: 0.1041 - accuracy: 0.9825 - val_loss: 0.3345 - val_accuracy: 0.9058\n",
            "Epoch 12/100\n",
            "150/150 [==============================] - 72s 476ms/step - loss: 0.0910 - accuracy: 0.9846 - val_loss: 0.3077 - val_accuracy: 0.9108\n",
            "Epoch 13/100\n",
            "150/150 [==============================] - 72s 475ms/step - loss: 0.0819 - accuracy: 0.9881 - val_loss: 0.2858 - val_accuracy: 0.9150\n",
            "Epoch 14/100\n",
            "150/150 [==============================] - 72s 474ms/step - loss: 0.0714 - accuracy: 0.9915 - val_loss: 0.2701 - val_accuracy: 0.9200\n",
            "Epoch 15/100\n",
            "150/150 [==============================] - 72s 474ms/step - loss: 0.0666 - accuracy: 0.9923 - val_loss: 0.2591 - val_accuracy: 0.9250\n",
            "Epoch 16/100\n",
            "150/150 [==============================] - 72s 474ms/step - loss: 0.0580 - accuracy: 0.9950 - val_loss: 0.2453 - val_accuracy: 0.9300\n",
            "Epoch 17/100\n",
            "150/150 [==============================] - 72s 472ms/step - loss: 0.0544 - accuracy: 0.9935 - val_loss: 0.2365 - val_accuracy: 0.9283\n",
            "Epoch 18/100\n",
            "150/150 [==============================] - 72s 474ms/step - loss: 0.0510 - accuracy: 0.9948 - val_loss: 0.2303 - val_accuracy: 0.9292\n",
            "Epoch 19/100\n",
            "150/150 [==============================] - 72s 476ms/step - loss: 0.0489 - accuracy: 0.9952 - val_loss: 0.2267 - val_accuracy: 0.9325\n",
            "Epoch 20/100\n",
            "150/150 [==============================] - 72s 476ms/step - loss: 0.0444 - accuracy: 0.9962 - val_loss: 0.2259 - val_accuracy: 0.9308\n",
            "Epoch 21/100\n",
            "150/150 [==============================] - 72s 475ms/step - loss: 0.0414 - accuracy: 0.9965 - val_loss: 0.2218 - val_accuracy: 0.9325\n",
            "Epoch 22/100\n",
            "150/150 [==============================] - 72s 475ms/step - loss: 0.0392 - accuracy: 0.9977 - val_loss: 0.2191 - val_accuracy: 0.9342\n",
            "Epoch 23/100\n",
            "150/150 [==============================] - 72s 474ms/step - loss: 0.0356 - accuracy: 0.9975 - val_loss: 0.2164 - val_accuracy: 0.9358\n",
            "Epoch 24/100\n",
            "150/150 [==============================] - 72s 476ms/step - loss: 0.0329 - accuracy: 0.9985 - val_loss: 0.2160 - val_accuracy: 0.9375\n",
            "Epoch 25/100\n",
            "150/150 [==============================] - 72s 475ms/step - loss: 0.0313 - accuracy: 0.9981 - val_loss: 0.2123 - val_accuracy: 0.9367\n",
            "Epoch 26/100\n",
            "150/150 [==============================] - 72s 474ms/step - loss: 0.0281 - accuracy: 0.9992 - val_loss: 0.2099 - val_accuracy: 0.9392\n",
            "Epoch 27/100\n",
            "150/150 [==============================] - 72s 475ms/step - loss: 0.0281 - accuracy: 0.9992 - val_loss: 0.2080 - val_accuracy: 0.9400\n",
            "Epoch 28/100\n",
            "150/150 [==============================] - 72s 473ms/step - loss: 0.0259 - accuracy: 0.9987 - val_loss: 0.2069 - val_accuracy: 0.9392\n",
            "Epoch 29/100\n",
            "150/150 [==============================] - 72s 475ms/step - loss: 0.0269 - accuracy: 0.9992 - val_loss: 0.2056 - val_accuracy: 0.9400\n",
            "Epoch 30/100\n",
            "150/150 [==============================] - 72s 475ms/step - loss: 0.0234 - accuracy: 0.9990 - val_loss: 0.2044 - val_accuracy: 0.9375\n",
            "Epoch 31/100\n",
            "150/150 [==============================] - 72s 475ms/step - loss: 0.0218 - accuracy: 1.0000 - val_loss: 0.2017 - val_accuracy: 0.9408\n",
            "Epoch 32/100\n",
            "150/150 [==============================] - 72s 474ms/step - loss: 0.0221 - accuracy: 0.9994 - val_loss: 0.1998 - val_accuracy: 0.9433\n",
            "Epoch 33/100\n",
            "150/150 [==============================] - 72s 473ms/step - loss: 0.0216 - accuracy: 0.9990 - val_loss: 0.1989 - val_accuracy: 0.9417\n",
            "Epoch 34/100\n",
            "150/150 [==============================] - 72s 475ms/step - loss: 0.0202 - accuracy: 0.9996 - val_loss: 0.1989 - val_accuracy: 0.9392\n",
            "Epoch 35/100\n",
            "150/150 [==============================] - 72s 474ms/step - loss: 0.0211 - accuracy: 0.9996 - val_loss: 0.1961 - val_accuracy: 0.9417\n",
            "Epoch 36/100\n",
            "150/150 [==============================] - 72s 473ms/step - loss: 0.0171 - accuracy: 0.9998 - val_loss: 0.1949 - val_accuracy: 0.9400\n",
            "Epoch 37/100\n",
            "150/150 [==============================] - 72s 477ms/step - loss: 0.0194 - accuracy: 0.9998 - val_loss: 0.1934 - val_accuracy: 0.9442\n",
            "Epoch 38/100\n",
            "150/150 [==============================] - 72s 476ms/step - loss: 0.0175 - accuracy: 1.0000 - val_loss: 0.1921 - val_accuracy: 0.9442\n",
            "Epoch 39/100\n",
            "150/150 [==============================] - 72s 473ms/step - loss: 0.0175 - accuracy: 0.9996 - val_loss: 0.1912 - val_accuracy: 0.9433\n",
            "Epoch 40/100\n",
            "150/150 [==============================] - 72s 476ms/step - loss: 0.0169 - accuracy: 1.0000 - val_loss: 0.1898 - val_accuracy: 0.9450\n",
            "Epoch 41/100\n",
            "150/150 [==============================] - 72s 475ms/step - loss: 0.0166 - accuracy: 0.9996 - val_loss: 0.1887 - val_accuracy: 0.9458\n",
            "Epoch 42/100\n",
            "150/150 [==============================] - 72s 474ms/step - loss: 0.0158 - accuracy: 0.9996 - val_loss: 0.1871 - val_accuracy: 0.9450\n",
            "Epoch 43/100\n",
            "150/150 [==============================] - 72s 476ms/step - loss: 0.0159 - accuracy: 1.0000 - val_loss: 0.1862 - val_accuracy: 0.9467\n",
            "Epoch 44/100\n",
            "150/150 [==============================] - 72s 476ms/step - loss: 0.0148 - accuracy: 0.9996 - val_loss: 0.1851 - val_accuracy: 0.9458\n",
            "Epoch 45/100\n",
            "150/150 [==============================] - 72s 475ms/step - loss: 0.0141 - accuracy: 1.0000 - val_loss: 0.1842 - val_accuracy: 0.9450\n",
            "Epoch 46/100\n",
            "150/150 [==============================] - 72s 476ms/step - loss: 0.0138 - accuracy: 0.9998 - val_loss: 0.1831 - val_accuracy: 0.9450\n",
            "Epoch 47/100\n",
            "150/150 [==============================] - 72s 474ms/step - loss: 0.0125 - accuracy: 1.0000 - val_loss: 0.1827 - val_accuracy: 0.9450\n",
            "Epoch 48/100\n",
            "150/150 [==============================] - 72s 474ms/step - loss: 0.0143 - accuracy: 0.9992 - val_loss: 0.1815 - val_accuracy: 0.9442\n",
            "Epoch 49/100\n",
            "150/150 [==============================] - 72s 475ms/step - loss: 0.0116 - accuracy: 0.9998 - val_loss: 0.1818 - val_accuracy: 0.9450\n",
            "Epoch 50/100\n",
            "150/150 [==============================] - 72s 476ms/step - loss: 0.0126 - accuracy: 0.9996 - val_loss: 0.1808 - val_accuracy: 0.9458\n",
            "Epoch 51/100\n",
            "150/150 [==============================] - 72s 475ms/step - loss: 0.0110 - accuracy: 1.0000 - val_loss: 0.1806 - val_accuracy: 0.9458\n",
            "Epoch 52/100\n",
            "150/150 [==============================] - 72s 476ms/step - loss: 0.0120 - accuracy: 1.0000 - val_loss: 0.1799 - val_accuracy: 0.9442\n",
            "Epoch 53/100\n",
            "150/150 [==============================] - 72s 475ms/step - loss: 0.0116 - accuracy: 1.0000 - val_loss: 0.1796 - val_accuracy: 0.9450\n",
            "Epoch 54/100\n",
            "150/150 [==============================] - 72s 476ms/step - loss: 0.0109 - accuracy: 0.9998 - val_loss: 0.1789 - val_accuracy: 0.9458\n",
            "Epoch 55/100\n",
            "150/150 [==============================] - 72s 476ms/step - loss: 0.0110 - accuracy: 1.0000 - val_loss: 0.1778 - val_accuracy: 0.9458\n",
            "Epoch 56/100\n",
            "150/150 [==============================] - 72s 476ms/step - loss: 0.0105 - accuracy: 1.0000 - val_loss: 0.1772 - val_accuracy: 0.9475\n",
            "Epoch 57/100\n",
            "150/150 [==============================] - 72s 477ms/step - loss: 0.0103 - accuracy: 0.9998 - val_loss: 0.1769 - val_accuracy: 0.9483\n",
            "Epoch 58/100\n",
            "150/150 [==============================] - 72s 476ms/step - loss: 0.0110 - accuracy: 1.0000 - val_loss: 0.1763 - val_accuracy: 0.9492\n",
            "Epoch 59/100\n",
            "150/150 [==============================] - 72s 476ms/step - loss: 0.0108 - accuracy: 0.9998 - val_loss: 0.1759 - val_accuracy: 0.9483\n",
            "Epoch 60/100\n",
            "150/150 [==============================] - 72s 475ms/step - loss: 0.0105 - accuracy: 0.9998 - val_loss: 0.1753 - val_accuracy: 0.9483\n",
            "Epoch 61/100\n",
            "150/150 [==============================] - 72s 476ms/step - loss: 0.0099 - accuracy: 1.0000 - val_loss: 0.1749 - val_accuracy: 0.9500\n",
            "Epoch 62/100\n",
            "150/150 [==============================] - 72s 475ms/step - loss: 0.0101 - accuracy: 0.9998 - val_loss: 0.1736 - val_accuracy: 0.9483\n",
            "Epoch 63/100\n",
            "150/150 [==============================] - 72s 475ms/step - loss: 0.0087 - accuracy: 1.0000 - val_loss: 0.1732 - val_accuracy: 0.9483\n",
            "Epoch 64/100\n",
            "150/150 [==============================] - 72s 477ms/step - loss: 0.0093 - accuracy: 1.0000 - val_loss: 0.1732 - val_accuracy: 0.9475\n",
            "Epoch 65/100\n",
            "150/150 [==============================] - 72s 476ms/step - loss: 0.0093 - accuracy: 0.9996 - val_loss: 0.1728 - val_accuracy: 0.9483\n",
            "Epoch 66/100\n",
            "150/150 [==============================] - 72s 477ms/step - loss: 0.0090 - accuracy: 0.9998 - val_loss: 0.1725 - val_accuracy: 0.9475\n",
            "Epoch 67/100\n",
            "150/150 [==============================] - 72s 476ms/step - loss: 0.0082 - accuracy: 1.0000 - val_loss: 0.1716 - val_accuracy: 0.9483\n",
            "Epoch 68/100\n",
            "150/150 [==============================] - 72s 475ms/step - loss: 0.0081 - accuracy: 1.0000 - val_loss: 0.1708 - val_accuracy: 0.9483\n",
            "Epoch 69/100\n",
            "150/150 [==============================] - 72s 476ms/step - loss: 0.0079 - accuracy: 0.9998 - val_loss: 0.1705 - val_accuracy: 0.9483\n",
            "Epoch 70/100\n",
            "150/150 [==============================] - 72s 475ms/step - loss: 0.0082 - accuracy: 1.0000 - val_loss: 0.1703 - val_accuracy: 0.9492\n",
            "Epoch 71/100\n",
            "150/150 [==============================] - 72s 475ms/step - loss: 0.0080 - accuracy: 1.0000 - val_loss: 0.1696 - val_accuracy: 0.9492\n",
            "Epoch 72/100\n",
            "150/150 [==============================] - 72s 475ms/step - loss: 0.0075 - accuracy: 1.0000 - val_loss: 0.1698 - val_accuracy: 0.9492\n",
            "Epoch 73/100\n",
            "150/150 [==============================] - 72s 475ms/step - loss: 0.0077 - accuracy: 0.9996 - val_loss: 0.1691 - val_accuracy: 0.9500\n",
            "Epoch 74/100\n",
            "150/150 [==============================] - 72s 478ms/step - loss: 0.0077 - accuracy: 1.0000 - val_loss: 0.1685 - val_accuracy: 0.9500\n",
            "Epoch 75/100\n",
            "150/150 [==============================] - 72s 477ms/step - loss: 0.0079 - accuracy: 0.9998 - val_loss: 0.1682 - val_accuracy: 0.9500\n",
            "Epoch 76/100\n",
            "150/150 [==============================] - 72s 477ms/step - loss: 0.0076 - accuracy: 0.9998 - val_loss: 0.1680 - val_accuracy: 0.9500\n",
            "Epoch 77/100\n",
            "150/150 [==============================] - 72s 477ms/step - loss: 0.0068 - accuracy: 1.0000 - val_loss: 0.1676 - val_accuracy: 0.9500\n",
            "Epoch 78/100\n",
            "150/150 [==============================] - 72s 476ms/step - loss: 0.0072 - accuracy: 1.0000 - val_loss: 0.1669 - val_accuracy: 0.9508\n",
            "Epoch 79/100\n",
            "150/150 [==============================] - 72s 475ms/step - loss: 0.0069 - accuracy: 0.9998 - val_loss: 0.1664 - val_accuracy: 0.9508\n",
            "Epoch 80/100\n",
            "150/150 [==============================] - 72s 477ms/step - loss: 0.0068 - accuracy: 0.9996 - val_loss: 0.1661 - val_accuracy: 0.9508\n",
            "Epoch 81/100\n",
            "150/150 [==============================] - 72s 477ms/step - loss: 0.0070 - accuracy: 0.9998 - val_loss: 0.1663 - val_accuracy: 0.9508\n",
            "Epoch 82/100\n",
            "150/150 [==============================] - 72s 476ms/step - loss: 0.0066 - accuracy: 1.0000 - val_loss: 0.1660 - val_accuracy: 0.9508\n",
            "Epoch 83/100\n",
            "150/150 [==============================] - 72s 477ms/step - loss: 0.0071 - accuracy: 0.9998 - val_loss: 0.1658 - val_accuracy: 0.9508\n",
            "Epoch 84/100\n",
            "150/150 [==============================] - 72s 475ms/step - loss: 0.0065 - accuracy: 1.0000 - val_loss: 0.1652 - val_accuracy: 0.9500\n",
            "Epoch 85/100\n",
            "150/150 [==============================] - 72s 476ms/step - loss: 0.0067 - accuracy: 1.0000 - val_loss: 0.1642 - val_accuracy: 0.9500\n",
            "Epoch 86/100\n",
            "150/150 [==============================] - 72s 477ms/step - loss: 0.0065 - accuracy: 1.0000 - val_loss: 0.1641 - val_accuracy: 0.9500\n",
            "Epoch 87/100\n",
            "150/150 [==============================] - 73s 479ms/step - loss: 0.0063 - accuracy: 0.9998 - val_loss: 0.1638 - val_accuracy: 0.9517\n",
            "Epoch 88/100\n",
            "150/150 [==============================] - 72s 476ms/step - loss: 0.0069 - accuracy: 1.0000 - val_loss: 0.1634 - val_accuracy: 0.9517\n",
            "Epoch 89/100\n",
            "150/150 [==============================] - 72s 475ms/step - loss: 0.0064 - accuracy: 1.0000 - val_loss: 0.1632 - val_accuracy: 0.9517\n",
            "Epoch 90/100\n",
            "150/150 [==============================] - 72s 477ms/step - loss: 0.0064 - accuracy: 1.0000 - val_loss: 0.1626 - val_accuracy: 0.9517\n",
            "Epoch 91/100\n",
            "150/150 [==============================] - 72s 478ms/step - loss: 0.0061 - accuracy: 1.0000 - val_loss: 0.1623 - val_accuracy: 0.9517\n",
            "Epoch 92/100\n",
            "150/150 [==============================] - 72s 476ms/step - loss: 0.0056 - accuracy: 1.0000 - val_loss: 0.1620 - val_accuracy: 0.9508\n",
            "Epoch 93/100\n",
            "150/150 [==============================] - 72s 477ms/step - loss: 0.0062 - accuracy: 1.0000 - val_loss: 0.1617 - val_accuracy: 0.9517\n",
            "Epoch 94/100\n",
            "150/150 [==============================] - 72s 475ms/step - loss: 0.0055 - accuracy: 1.0000 - val_loss: 0.1614 - val_accuracy: 0.9517\n",
            "Epoch 95/100\n",
            "150/150 [==============================] - 72s 476ms/step - loss: 0.0056 - accuracy: 1.0000 - val_loss: 0.1614 - val_accuracy: 0.9517\n",
            "Epoch 96/100\n",
            "150/150 [==============================] - 72s 475ms/step - loss: 0.0064 - accuracy: 0.9996 - val_loss: 0.1615 - val_accuracy: 0.9517\n",
            "Epoch 97/100\n",
            "150/150 [==============================] - 72s 474ms/step - loss: 0.0059 - accuracy: 1.0000 - val_loss: 0.1613 - val_accuracy: 0.9517\n",
            "Epoch 98/100\n",
            "150/150 [==============================] - 72s 474ms/step - loss: 0.0054 - accuracy: 1.0000 - val_loss: 0.1611 - val_accuracy: 0.9517\n",
            "Epoch 99/100\n",
            "150/150 [==============================] - 72s 475ms/step - loss: 0.0060 - accuracy: 1.0000 - val_loss: 0.1609 - val_accuracy: 0.9517\n",
            "Epoch 100/100\n",
            "150/150 [==============================] - 72s 474ms/step - loss: 0.0056 - accuracy: 1.0000 - val_loss: 0.1606 - val_accuracy: 0.9517\n"
          ],
          "name": "stdout"
        }
      ]
    },
    {
      "cell_type": "code",
      "metadata": {
        "colab": {
          "base_uri": "https://localhost:8080/",
          "height": 295
        },
        "id": "9QZMfHi6XGMT",
        "outputId": "a5167af5-9119-4157-f957-53fbee761e7b"
      },
      "source": [
        "plt.plot(history.history['accuracy'])\n",
        "plt.plot(history.history['val_accuracy'])\n",
        "plt.title('Model accuracy with SGD optimizer')\n",
        "plt.ylabel('accuracy')\n",
        "plt.xlabel('epoch')\n",
        "plt.legend(['train','val'], loc='upper left')\n",
        "plt.show()"
      ],
      "execution_count": null,
      "outputs": [
        {
          "output_type": "display_data",
          "data": {
            "image/png": "[encoded data removed]",
            "text/plain": [
              "<Figure size 432x288 with 1 Axes>"
            ]
          },
          "metadata": {
            "tags": []
          }
        }
      ]
    },
    {
      "cell_type": "code",
      "metadata": {
        "id": "qK1hAjT6Qvv3"
      },
      "source": [
        "latest = tf.train.latest_checkpoint(checkpoint_dir)"
      ],
      "execution_count": null,
      "outputs": []
    },
    {
      "cell_type": "code",
      "metadata": {
        "id": "04rWXoD-cpp8"
      },
      "source": [
        "model.save('/content/drive/MyDrive/Colab Notebooks/Nhận dạng/Mobile Hand Gesture Recognition/model/hand_gesture_SGD.h5')"
      ],
      "execution_count": null,
      "outputs": []
    },
    {
      "cell_type": "code",
      "metadata": {
        "id": "Ky64tQTJc4aV"
      },
      "source": [
        "model = keras.models.load_model('/content/drive/MyDrive/Colab Notebooks/Nhận dạng/Mobile Hand Gesture Recognition/model/hand_gesture_SGD.h5')"
      ],
      "execution_count": null,
      "outputs": []
    },
    {
      "cell_type": "code",
      "metadata": {
        "colab": {
          "base_uri": "https://localhost:8080/"
        },
        "id": "GNYobHn9dG-Z",
        "outputId": "085d52c8-3fff-4b51-aae8-494f8240b2d4"
      },
      "source": [
        "model.load_weights(latest)"
      ],
      "execution_count": null,
      "outputs": [
        {
          "output_type": "execute_result",
          "data": {
            "text/plain": [
              "<tensorflow.python.training.tracking.util.CheckpointLoadStatus at 0x7f1622299090>"
            ]
          },
          "metadata": {
            "tags": []
          },
          "execution_count": 18
        }
      ]
    },
    {
      "cell_type": "code",
      "metadata": {
        "id": "2B18AUbohL0U"
      },
      "source": [
        "y_pred = model.predict(val_generator)"
      ],
      "execution_count": null,
      "outputs": []
    },
    {
      "cell_type": "code",
      "metadata": {
        "colab": {
          "background_save": true
        },
        "id": "Gxn2r7mP76t5"
      },
      "source": [
        "images = []\n",
        "labels = []"
      ],
      "execution_count": null,
      "outputs": []
    },
    {
      "cell_type": "code",
      "metadata": {
        "id": "tHPig3Qn8CFt"
      },
      "source": [
        "test_folder = '/content/drive/MyDrive/Colab Notebooks/Nhận dạng/Mobile Hand Gesture Recognition/DataTest'"
      ],
      "execution_count": null,
      "outputs": []
    },
    {
      "cell_type": "code",
      "metadata": {
        "colab": {
          "background_save": true
        },
        "id": "hrP_Xuy4YhMr"
      },
      "source": [
        "for sub_folder in os.listdir(test_folder):\n",
        "    for image_file_name in os.listdir(os.path.join(test_folder, sub_folder)):\n",
        "      image = cv2.imread(os.path.join(test_folder,sub_folder,image_file_name))\n",
        "      images.append(image)\n",
        "      labels.append(sub_folder)\n",
        "      print(image_file_name)\n",
        "      "
      ],
      "execution_count": null,
      "outputs": []
    },
    {
      "cell_type": "code",
      "metadata": {
        "id": "PEeIIG3f79PJ"
      },
      "source": [
        "images = np.array(images,dtype=np.float32)\n",
        "labels = np.array(labels)"
      ],
      "execution_count": null,
      "outputs": []
    },
    {
      "cell_type": "code",
      "metadata": {
        "id": "xHnp0wIQNgLH"
      },
      "source": [
        "for i in range (len(images)):\n",
        "  images[i] = np.reshape(images[i],[1,224,224,3])"
      ],
      "execution_count": null,
      "outputs": []
    },
    {
      "cell_type": "code",
      "metadata": {
        "id": "6IiDp8oz_Ij2"
      },
      "source": [
        "test_images, test_labels = shuffle(images, labels)"
      ],
      "execution_count": null,
      "outputs": []
    },
    {
      "cell_type": "markdown",
      "metadata": {
        "id": "dylcoQDCjKU5"
      },
      "source": [
        "# Covert to tflite model\n"
      ]
    },
    {
      "cell_type": "code",
      "metadata": {
        "colab": {
          "base_uri": "https://localhost:8080/"
        },
        "id": "FrAW2tdq4vF1",
        "outputId": "4c614b49-1536-4cd6-f39a-9a5c296f7682"
      },
      "source": [
        "import numpy as np\n",
        "import tensorflow as tf\n",
        "\n",
        "# Load the TFLite model and allocate tensors.\n",
        "interpreter = tf.lite.Interpreter(model_path=\"/content/drive/MyDrive/Colab Notebooks/Nhận dạng/Mobile Hand Gesture Recognition/model/model.tflite\")\n",
        "interpreter.allocate_tensors()\n",
        "\n",
        "input_details = interpreter.get_input_details()\n",
        "output_details = interpreter.get_output_details()\n",
        "input_shape = input_details[0]['shape']\n",
        "label = []\n",
        "# for i in range (240):\n",
        "input_data = images[0:1]\n",
        "interpreter.set_tensor(input_details[0]['index'], input_data)\n",
        "interpreter.invoke()\n",
        "output_data = np.argmax(interpreter.get_tensor(output_details[0]['index']))\n",
        "label.append(output_data)\n",
        "print(output_data)\n"
      ],
      "execution_count": null,
      "outputs": [
        {
          "output_type": "stream",
          "text": [
            "22\n"
          ],
          "name": "stdout"
        }
      ]
    },
    {
      "cell_type": "code",
      "metadata": {
        "colab": {
          "base_uri": "https://localhost:8080/",
          "height": 35
        },
        "id": "Vw4TcK0lkzmp",
        "outputId": "cc6f7b4c-c1d5-4d4b-bc85-b119ba5029ba"
      },
      "source": [
        "classNames[output_data]"
      ],
      "execution_count": null,
      "outputs": [
        {
          "output_type": "execute_result",
          "data": {
            "application/vnd.google.colaboratory.intrinsic+json": {
              "type": "string"
            },
            "text/plain": [
              "'x'"
            ]
          },
          "metadata": {
            "tags": []
          },
          "execution_count": 17
        }
      ]
    },
    {
      "cell_type": "code",
      "metadata": {
        "colab": {
          "base_uri": "https://localhost:8080/"
        },
        "id": "EX6Rb8KzI3tT",
        "outputId": "42cdbff5-602f-4c12-a2ad-6843aed14ffd"
      },
      "source": [
        "test_images.shape"
      ],
      "execution_count": null,
      "outputs": [
        {
          "output_type": "execute_result",
          "data": {
            "text/plain": [
              "(240, 224, 224, 3)"
            ]
          },
          "metadata": {
            "tags": []
          },
          "execution_count": 39
        }
      ]
    },
    {
      "cell_type": "code",
      "metadata": {
        "id": "m6yZunj78_c4"
      },
      "source": [
        "y_pred = model.predict_classes(test_images)"
      ],
      "execution_count": null,
      "outputs": []
    },
    {
      "cell_type": "code",
      "metadata": {
        "id": "70XWQwwI_aAl"
      },
      "source": [
        "y_pred"
      ],
      "execution_count": null,
      "outputs": []
    },
    {
      "cell_type": "code",
      "metadata": {
        "id": "ZEH9VGVF9bt0"
      },
      "source": [
        "y_result = []\n",
        "for i in label:\n",
        "  y_result.append(classNames[i])"
      ],
      "execution_count": null,
      "outputs": []
    },
    {
      "cell_type": "code",
      "metadata": {
        "id": "kvMZQzungYPR"
      },
      "source": [
        "from sklearn.metrics import confusion_matrix"
      ],
      "execution_count": null,
      "outputs": []
    },
    {
      "cell_type": "code",
      "metadata": {
        "colab": {
          "base_uri": "https://localhost:8080/",
          "height": 1000
        },
        "id": "BVEoU3mY_nJD",
        "outputId": "f48b6439-4774-41ec-f8cb-ee5538cbc796"
      },
      "source": [
        "import pandas as pd\n",
        "import seaborn as sns\n",
        "print('Confusion Matrix')\n",
        "cm = confusion_matrix(test_labels, y_result)\n",
        "# plot_confusion_matrix(conf_mat=cm, figsize=(8, 8), show_normed=False)\n",
        "\n",
        "df_cm = pd.DataFrame(cm, index = [i for i in \"ABCDEFGHIKLMNOPQRSTUVWXY\"],\n",
        "                  columns = [i for i in \"ABCDEFGHIKLMNOPQRSTUVWXY\"])\n",
        "plt.figure(figsize = (10,7))\n",
        "sns.heatmap(df_cm, annot=True)\n",
        "confusion_matrix(test_labels, y_result)"
      ],
      "execution_count": null,
      "outputs": [
        {
          "output_type": "stream",
          "text": [
            "Confusion Matrix\n"
          ],
          "name": "stdout"
        },
        {
          "output_type": "execute_result",
          "data": {
            "text/plain": [
              "array([[10,  0,  0,  0,  0,  0,  0,  0,  0,  0,  0,  0,  0,  0,  0,  0,\n",
              "         0,  0,  0,  0,  0,  0,  0,  0],\n",
              "       [ 0, 10,  0,  0,  0,  0,  0,  0,  0,  0,  0,  0,  0,  0,  0,  0,\n",
              "         0,  0,  0,  0,  0,  0,  0,  0],\n",
              "       [ 0,  0, 10,  0,  0,  0,  0,  0,  0,  0,  0,  0,  0,  0,  0,  0,\n",
              "         0,  0,  0,  0,  0,  0,  0,  0],\n",
              "       [ 0,  0,  0, 10,  0,  0,  0,  0,  0,  0,  0,  0,  0,  0,  0,  0,\n",
              "         0,  0,  0,  0,  0,  0,  0,  0],\n",
              "       [ 0,  0,  0,  0, 10,  0,  0,  0,  0,  0,  0,  0,  0,  0,  0,  0,\n",
              "         0,  0,  0,  0,  0,  0,  0,  0],\n",
              "       [ 0,  0,  0,  0,  0, 10,  0,  0,  0,  0,  0,  0,  0,  0,  0,  0,\n",
              "         0,  0,  0,  0,  0,  0,  0,  0],\n",
              "       [ 0,  0,  0,  0,  0,  0, 10,  0,  0,  0,  0,  0,  0,  0,  0,  0,\n",
              "         0,  0,  0,  0,  0,  0,  0,  0],\n",
              "       [ 0,  0,  0,  0,  0,  0,  0, 10,  0,  0,  0,  0,  0,  0,  0,  0,\n",
              "         0,  0,  0,  0,  0,  0,  0,  0],\n",
              "       [ 0,  0,  0,  0,  0,  0,  0,  0,  9,  0,  0,  0,  0,  0,  0,  0,\n",
              "         0,  0,  0,  0,  0,  0,  0,  1],\n",
              "       [ 0,  0,  0,  0,  0,  0,  0,  0,  0, 10,  0,  0,  0,  0,  0,  0,\n",
              "         0,  0,  0,  0,  0,  0,  0,  0],\n",
              "       [ 0,  0,  0,  0,  0,  0,  0,  0,  0,  0, 10,  0,  0,  0,  0,  0,\n",
              "         0,  0,  0,  0,  0,  0,  0,  0],\n",
              "       [10,  0,  0,  0,  0,  0,  0,  0,  0,  0,  0,  0,  0,  0,  0,  0,\n",
              "         0,  0,  0,  0,  0,  0,  0,  0],\n",
              "       [ 9,  0,  0,  0,  0,  0,  0,  0,  0,  0,  0,  0,  0,  0,  0,  0,\n",
              "         0,  1,  0,  0,  0,  0,  0,  0],\n",
              "       [ 0,  0,  1,  0,  0,  0,  0,  0,  0,  0,  0,  0,  0,  9,  0,  0,\n",
              "         0,  0,  0,  0,  0,  0,  0,  0],\n",
              "       [ 0,  0,  0,  0,  0,  0,  0,  0,  0,  0,  0,  0,  0,  0, 10,  0,\n",
              "         0,  0,  0,  0,  0,  0,  0,  0],\n",
              "       [ 0,  0,  0,  0,  0,  0,  0,  0,  0,  0,  0,  0,  0,  0,  0, 10,\n",
              "         0,  0,  0,  0,  0,  0,  0,  0],\n",
              "       [ 0,  0,  0,  0,  0,  0,  0,  0,  0,  0,  0,  0,  0,  0,  0,  0,\n",
              "        10,  0,  0,  0,  0,  0,  0,  0],\n",
              "       [ 0,  0,  0,  0,  0,  0,  0,  0,  0,  0,  0,  0,  0,  0,  0,  0,\n",
              "         0, 10,  0,  0,  0,  0,  0,  0],\n",
              "       [ 1,  0,  0,  0,  0,  0,  0,  0,  0,  0,  0,  0,  0,  0,  0,  0,\n",
              "         0,  1,  8,  0,  0,  0,  0,  0],\n",
              "       [ 0,  0,  0,  0,  0,  0,  0,  0,  0,  0,  0,  0,  1,  0,  0,  0,\n",
              "         0,  0,  0,  9,  0,  0,  0,  0],\n",
              "       [ 0,  0,  0,  0,  0,  0,  0,  0,  0,  0,  0,  0,  0,  0,  0,  0,\n",
              "         0,  0,  0,  0,  1,  0,  9,  0],\n",
              "       [ 0,  0,  0,  0,  0,  0,  0,  0,  0,  0,  0,  0,  0,  0,  0,  0,\n",
              "         0,  0,  0,  0,  0, 10,  0,  0],\n",
              "       [ 0,  0,  0,  0,  0,  0,  0,  0,  0,  0,  0,  0,  0,  0,  0,  0,\n",
              "         0,  0,  0,  0,  0,  0, 10,  0],\n",
              "       [ 0,  0,  0,  0,  0,  0,  0,  0,  0,  0,  0,  0,  0,  0,  0,  0,\n",
              "         0,  0,  0,  0,  0,  0,  0, 10]])"
            ]
          },
          "metadata": {
            "tags": []
          },
          "execution_count": 94
        },
        {
          "output_type": "display_data",
          "data": {
            "image/png": "[encoded data removed]",
            "text/plain": [
              "<Figure size 720x504 with 2 Axes>"
            ]
          },
          "metadata": {
            "tags": []
          }
        }
      ]
    },
    {
      "cell_type": "code",
      "metadata": {
        "id": "iRdmGvGhApkE"
      },
      "source": [
        ""
      ],
      "execution_count": null,
      "outputs": []
    }
  ]
}